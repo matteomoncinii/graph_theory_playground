{
 "cells": [
  {
   "cell_type": "code",
   "execution_count": null,
   "id": "3e3b5b25",
   "metadata": {},
   "outputs": [],
   "source": [
    "import networkx as nx\n",
    "import matplotlib.pyplot as plt"
   ]
  },
  {
   "cell_type": "code",
   "execution_count": null,
   "id": "53f1928b",
   "metadata": {},
   "outputs": [],
   "source": [
    "\n",
    "\n",
    "# Create an empty graph\n",
    "G = nx.Graph()\n",
    "\n",
    "# Define the edges based on the adjacency list\n",
    "edges = [\n",
    "    (0, 1), (0, 2), (0, 3),\n",
    "    (1, 4), (1, 5),\n",
    "    (2, 6), (2, 7),\n",
    "    (3, 8),\n",
    "    (4, 9),\n",
    "    (5, 10),\n",
    "    (6, 11),\n",
    "    (7, 12),\n",
    "    (8, 13),\n",
    "    (9, 14)\n",
    "]\n",
    "\n",
    "# Add edges to the graph\n",
    "G.add_edges_from(edges)\n",
    "\n"
   ]
  },
  {
   "cell_type": "code",
   "execution_count": null,
   "id": "1d09342c",
   "metadata": {},
   "outputs": [],
   "source": [
    "# Draw the graph\n",
    "plt.figure(figsize=(10, 8))\n",
    "pos = nx.spring_layout(G, seed=42)  # Positions for all nodes\n",
    "nx.draw(G, pos, with_labels=True, node_color='skyblue', node_size=800, font_weight='bold', edge_color='gray')\n",
    "plt.title(\"Graph with 15 Vertices\")\n",
    "plt.show()"
   ]
  }
 ],
 "metadata": {
  "language_info": {
   "name": "python"
  }
 },
 "nbformat": 4,
 "nbformat_minor": 5
}
